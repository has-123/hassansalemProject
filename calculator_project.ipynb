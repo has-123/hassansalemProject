{
  "nbformat": 4,
  "nbformat_minor": 0,
  "metadata": {
    "colab": {
      "name": "calculator_project.ipynb",
      "provenance": [],
      "collapsed_sections": []
    },
    "kernelspec": {
      "name": "python3",
      "display_name": "Python 3"
    },
    "language_info": {
      "name": "python"
    }
  },
  "cells": [
    {
      "cell_type": "code",
      "execution_count": 1,
      "metadata": {
        "colab": {
          "base_uri": "https://localhost:8080/"
        },
        "id": "Rdpc-_KWWcEc",
        "outputId": "e4e31519-f6cc-404a-92f9-19d0fb24dbaa"
      },
      "outputs": [
        {
          "output_type": "stream",
          "name": "stdout",
          "text": [
            "\n",
            "Please type in the math operation you would like to complete:\n",
            "+ for addition\n",
            "- for subtraction\n",
            "* for multiplication\n",
            "/ for division\n",
            "+\n",
            "Please enter the first number: 34\n",
            "Please enter the second number: 56\n",
            "34 + 56 = \n",
            "90\n",
            "\n",
            "Do you want to calculate again?\n",
            "Please type Y for YES or N for NO.\n",
            "Y\n",
            "\n",
            "Please type in the math operation you would like to complete:\n",
            "+ for addition\n",
            "- for subtraction\n",
            "* for multiplication\n",
            "/ for division\n",
            "*\n",
            "Please enter the first number: 455\n",
            "Please enter the second number: 678\n",
            "455 * 678 = \n",
            "308490\n",
            "\n",
            "Do you want to calculate again?\n",
            "Please type Y for YES or N for NO.\n",
            "N\n",
            "See you later.\n"
          ]
        }
      ],
      "source": [
        "def calculate():\n",
        "    operation = input('''\n",
        "Please type in the math operation you would like to complete:\n",
        "+ for addition\n",
        "- for subtraction\n",
        "* for multiplication\n",
        "/ for division\n",
        "''')\n",
        "\n",
        "    number_1 = int(input('Please enter the first number: '))\n",
        "    number_2 = int(input('Please enter the second number: '))\n",
        "\n",
        "    if operation == '+':\n",
        "        print('{} + {} = '.format(number_1, number_2))\n",
        "        print(number_1 + number_2)\n",
        "\n",
        "    elif operation == '-':\n",
        "        print('{} - {} = '.format(number_1, number_2))\n",
        "        print(number_1 - number_2)\n",
        "\n",
        "    elif operation == '*':\n",
        "        print('{} * {} = '.format(number_1, number_2))\n",
        "        print(number_1 * number_2)\n",
        "\n",
        "    elif operation == '/':\n",
        "        print('{} / {} = '.format(number_1, number_2))\n",
        "        print(number_1 / number_2)\n",
        "\n",
        "    else:\n",
        "        print('You have not typed a valid operator, please run the program again.')\n",
        "\n",
        "    # Add again() function to calculate() function\n",
        "    again()\n",
        "\n",
        "def again():\n",
        "    calc_again = input('''\n",
        "Do you want to calculate again?\n",
        "Please type Y for YES or N for NO.\n",
        "''')\n",
        "\n",
        "    if calc_again.upper() == 'Y':\n",
        "        calculate()\n",
        "    elif calc_again.upper() == 'N':\n",
        "        print('See you later.')\n",
        "    else:\n",
        "        again()\n",
        "\n",
        "calculate()"
      ]
    }
  ]
}